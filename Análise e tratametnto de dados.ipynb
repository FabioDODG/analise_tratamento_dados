{
 "cells": [
  {
   "cell_type": "code",
   "execution_count": 37,
   "id": "32ee1107",
   "metadata": {},
   "outputs": [],
   "source": [
    "                                    #análise e tratamento de dados de BD\n",
    "#importanto bibliotecas para tratamento de dados\n",
    "import pandas as pd"
   ]
  },
  {
   "cell_type": "code",
   "execution_count": 50,
   "id": "1ec32ca3",
   "metadata": {},
   "outputs": [],
   "source": [
    "# adicionando o banco de dados e passando o caminho do arquivo\n",
    "banco_dados = pd.read_csv(r'C:\\Users\\fabio\\OneDrive\\python\\excel\\tabela_clientes_dia.csv',sep=';')\n",
    "#display(banco_dados)"
   ]
  },
  {
   "cell_type": "code",
   "execution_count": 16,
   "id": "df01d55f",
   "metadata": {},
   "outputs": [],
   "source": [
    "# imprimindo os tipo de dado de cada coluna da BD\n",
    "\n",
    "#banco_dados.info()"
   ]
  },
  {
   "cell_type": "code",
   "execution_count": 51,
   "id": "e5a565fe",
   "metadata": {},
   "outputs": [],
   "source": [
    "# corrigindo a tipologia da coluna\n",
    "banco_dados['Preco'] = banco_dados['Preco'].replace(',','.')\n",
    "banco_dados['Preco'] = pd.to_numeric(banco_dados['Preco'], errors= 'coerce')\n"
   ]
  },
  {
   "cell_type": "code",
   "execution_count": 52,
   "id": "2b510286",
   "metadata": {},
   "outputs": [],
   "source": [
    "# reescrevendo dados da coluna\n",
    "banco_dados['Sexo'] = banco_dados['Sexo'].replace('M', 'Masculino')\n",
    "banco_dados['Sexo'] = banco_dados['Sexo'].replace('F', 'Feminino')\n",
    "#display(banco_dados)\n"
   ]
  },
  {
   "cell_type": "code",
   "execution_count": 53,
   "id": "268db26f",
   "metadata": {},
   "outputs": [
    {
     "name": "stdout",
     "output_type": "stream",
     "text": [
      "O lucro bruto da empresa no dia foi de : 31409.00\n"
     ]
    }
   ],
   "source": [
    "#gerando o valor de vendas da empresa no dia.\n",
    "\n",
    "lucro_bruto = banco_dados['Preco'].sum()\n",
    "print('O lucro bruto da empresa no dia foi de : {:.2f}'.format(lucro_bruto))"
   ]
  },
  {
   "cell_type": "code",
   "execution_count": null,
   "id": "6693cb02",
   "metadata": {},
   "outputs": [],
   "source": []
  }
 ],
 "metadata": {
  "kernelspec": {
   "display_name": "Python 3 (ipykernel)",
   "language": "python",
   "name": "python3"
  },
  "language_info": {
   "codemirror_mode": {
    "name": "ipython",
    "version": 3
   },
   "file_extension": ".py",
   "mimetype": "text/x-python",
   "name": "python",
   "nbconvert_exporter": "python",
   "pygments_lexer": "ipython3",
   "version": "3.9.12"
  }
 },
 "nbformat": 4,
 "nbformat_minor": 5
}
